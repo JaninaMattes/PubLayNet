{
  "nbformat": 4,
  "nbformat_minor": 0,
  "metadata": {
    "kernelspec": {
      "display_name": "Python 3",
      "language": "python",
      "name": "python3"
    },
    "language_info": {
      "codemirror_mode": {
        "name": "ipython",
        "version": 3
      },
      "file_extension": ".py",
      "mimetype": "text/x-python",
      "name": "python",
      "nbconvert_exporter": "python",
      "pygments_lexer": "ipython3",
      "version": "3.6.8"
    },
    "colab": {
      "name": "Kopie von exploring_PubLayNet_dataset.ipynb",
      "provenance": [],
      "collapsed_sections": []
    }
  },
  "cells": [
    {
      "cell_type": "markdown",
      "metadata": {
        "collapsed": true,
        "id": "Jc4WaiewiobG"
      },
      "source": [
        "# PubLayNet Dataset\n",
        "\n",
        "PubLayNet is a large dataset of document images from PubMed Central Open Access Subset. Each document’s layout is annotated with both bounding boxes and polygonal segmentations.\n",
        "\n",
        "The dataset is open sourced by IBM Research Australia and is [available to download freely](https://developer.ibm.com/exchanges/data/all/publaynet/) on the IBM Developer [Data Asset Exchange](http://ibm.biz/data-exchange). \n",
        "\n",
        "This notebook can be found on [GitHub](https://github.com/ibm-aur-nlp/PubLayNet) and [Watson Studio](https://dataplatform.cloud.ibm.com/analytics/notebooks/v2/43cb95d9-6c3e-479c-a189-8c9ff3524ec1/view?access_token=bb8ce645cf114b5f5512ae2eb9c7badcf0927f313e8f76b8138d0701289484e6)."
      ]
    },
    {
      "cell_type": "code",
      "metadata": {
        "id": "DaX8bl82iobb",
        "colab": {
          "base_uri": "https://localhost:8080/"
        },
        "outputId": "f03ebdfe-4315-4c62-f83d-d10b10c1f6a3"
      },
      "source": [
        "from google.colab import drive\n",
        "drive.mount('/content/gdrive')"
      ],
      "execution_count": null,
      "outputs": [
        {
          "output_type": "stream",
          "text": [
            "Mounted at /content/gdrive\n"
          ],
          "name": "stdout"
        }
      ]
    },
    {
      "cell_type": "code",
      "metadata": {
        "id": "rM_uOmmZPmke"
      },
      "source": [
        "import os \n",
        "os.environ['PYTHONPATH'] = \"/usr/local/lib/python2.7/\""
      ],
      "execution_count": 5,
      "outputs": []
    },
    {
      "cell_type": "code",
      "metadata": {
        "id": "DbHfwV3DjKyw",
        "colab": {
          "base_uri": "https://localhost:8080/"
        },
        "outputId": "4b9f0b3b-38c5-492d-b021-9312c585a705"
      },
      "source": [
        "!ls"
      ],
      "execution_count": 6,
      "outputs": [
        {
          "output_type": "stream",
          "text": [
            "gdrive\tsample_data\n"
          ],
          "name": "stdout"
        }
      ]
    },
    {
      "cell_type": "code",
      "metadata": {
        "id": "1t_4p6hlklW3",
        "colab": {
          "base_uri": "https://localhost:8080/"
        },
        "outputId": "5ad73d60-3817-469c-ab77-b0aaf78ccb21"
      },
      "source": [
        "!python2 --version\n",
        "!pip2 install colab-env\n",
        "!pip2 install virtualenv"
      ],
      "execution_count": 7,
      "outputs": [
        {
          "output_type": "stream",
          "text": [
            "Python 2.7.17\n",
            "Collecting colab-env\n",
            "  Downloading https://files.pythonhosted.org/packages/9d/66/1845bc28d685894e6e203cfb2bdd9d19c86926d7a6f765e9497e218ab304/colab-env-0.2.0.tar.gz\n",
            "Collecting python-dotenv<1.0,>=0.10.0\n",
            "  Downloading https://files.pythonhosted.org/packages/26/1f/ae3d06ec877df31f49448d24eee7198549edae2af00da60c85dad93e343f/python_dotenv-0.17.1-py2.py3-none-any.whl\n",
            "Requirement already satisfied: typing; python_version < \"3.5\" in /usr/local/lib/python2.7/dist-packages (from python-dotenv<1.0,>=0.10.0->colab-env) (3.7.4)\n",
            "Building wheels for collected packages: colab-env\n",
            "  Building wheel for colab-env (setup.py) ... \u001b[?25l\u001b[?25hdone\n",
            "  Created wheel for colab-env: filename=colab_env-0.2.0-cp27-none-any.whl size=3838 sha256=c7c6be927e32f13ae9a4c43de28e63aeccde5d41f81e519d6cf1936b13d74d08\n",
            "  Stored in directory: /root/.cache/pip/wheels/81/9c/85/7ec1faca43d1a5df32f33f4e22d5ae91f301a5406779528ead\n",
            "Successfully built colab-env\n",
            "Installing collected packages: python-dotenv, colab-env\n",
            "Successfully installed colab-env-0.2.0 python-dotenv-0.17.1\n",
            "Collecting virtualenv\n",
            "\u001b[?25l  Downloading https://files.pythonhosted.org/packages/03/08/f819421002e85a71d58368f7bffbe0b1921325e0e8ca7857cb5fb0e1f7c1/virtualenv-20.4.7-py2.py3-none-any.whl (7.2MB)\n",
            "\u001b[K     |████████████████████████████████| 7.2MB 6.9MB/s \n",
            "\u001b[?25hRequirement already satisfied: importlib-metadata>=0.12; python_version < \"3.8\" in /usr/local/lib/python2.7/dist-packages (from virtualenv) (1.3.0)\n",
            "Requirement already satisfied: filelock<4,>=3.0.0 in /usr/local/lib/python2.7/dist-packages (from virtualenv) (3.0.12)\n",
            "Requirement already satisfied: six<2,>=1.9.0 in /usr/local/lib/python2.7/dist-packages (from virtualenv) (1.15.0)\n",
            "Collecting appdirs<2,>=1.4.3\n",
            "  Downloading https://files.pythonhosted.org/packages/3b/00/2344469e2084fb287c2e0b57b72910309874c3245463acd6cf5e3db69324/appdirs-1.4.4-py2.py3-none-any.whl\n",
            "Collecting importlib-resources>=1.0; python_version < \"3.7\"\n",
            "  Downloading https://files.pythonhosted.org/packages/8d/94/2f6ceee0c4e63bff0177c07e68d27c937a19f6bc77c4739755b49f5adb04/importlib_resources-3.3.1-py2.py3-none-any.whl\n",
            "Collecting distlib<1,>=0.3.1\n",
            "\u001b[?25l  Downloading https://files.pythonhosted.org/packages/87/26/f6a23dd3e578132cf924e0dd5d4e055af0cd4ab43e2a9f10b7568bfb39d9/distlib-0.3.2-py2.py3-none-any.whl (338kB)\n",
            "\u001b[K     |████████████████████████████████| 348kB 39.7MB/s \n",
            "\u001b[?25hRequirement already satisfied: pathlib2<3,>=2.3.3; python_version < \"3.4\" and sys_platform != \"win32\" in /usr/local/lib/python2.7/dist-packages (from virtualenv) (2.3.4)\n",
            "Requirement already satisfied: zipp>=0.5 in /usr/local/lib/python2.7/dist-packages (from importlib-metadata>=0.12; python_version < \"3.8\"->virtualenv) (1.2.0)\n",
            "Requirement already satisfied: configparser>=3.5; python_version < \"3\" in /usr/local/lib/python2.7/dist-packages (from importlib-metadata>=0.12; python_version < \"3.8\"->virtualenv) (3.7.4)\n",
            "Requirement already satisfied: contextlib2; python_version < \"3\" in /usr/local/lib/python2.7/dist-packages (from importlib-metadata>=0.12; python_version < \"3.8\"->virtualenv) (0.5.5)\n",
            "Requirement already satisfied: typing; python_version < \"3.5\" in /usr/local/lib/python2.7/dist-packages (from importlib-resources>=1.0; python_version < \"3.7\"->virtualenv) (3.7.4)\n",
            "Requirement already satisfied: singledispatch; python_version < \"3.4\" in /usr/local/lib/python2.7/dist-packages (from importlib-resources>=1.0; python_version < \"3.7\"->virtualenv) (3.4.0.3)\n",
            "Requirement already satisfied: scandir; python_version < \"3.5\" in /usr/local/lib/python2.7/dist-packages (from pathlib2<3,>=2.3.3; python_version < \"3.4\" and sys_platform != \"win32\"->virtualenv) (1.10.0)\n",
            "Installing collected packages: appdirs, importlib-resources, distlib, virtualenv\n",
            "Successfully installed appdirs-1.4.4 distlib-0.3.2 importlib-resources-3.3.1 virtualenv-20.4.7\n"
          ],
          "name": "stdout"
        }
      ]
    },
    {
      "cell_type": "code",
      "metadata": {
        "id": "dGCnozN3JMi5",
        "colab": {
          "base_uri": "https://localhost:8080/"
        },
        "outputId": "b4e046d3-1e91-4283-9df5-089a87e7377f"
      },
      "source": [
        "!python2 -m virtualenv venv\n",
        "!source venv/bin/activate"
      ],
      "execution_count": 8,
      "outputs": [
        {
          "output_type": "stream",
          "text": [
            "created virtual environment CPython2.7.17.final.0-64 in 805ms\n",
            "  creator CPython2Posix(dest=/content/venv, clear=False, no_vcs_ignore=False, global=False)\n",
            "  seeder FromAppData(download=False, pip=bundle, wheel=bundle, setuptools=bundle, via=copy, app_data_dir=/root/.local/share/virtualenv)\n",
            "    added seed packages: pip==20.3.4, setuptools==44.1.1, wheel==0.36.2\n",
            "  activators PythonActivator,CShellActivator,FishActivator,PowerShellActivator,BashActivator\n"
          ],
          "name": "stdout"
        }
      ]
    },
    {
      "cell_type": "code",
      "metadata": {
        "id": "GzcSixa7IxG1",
        "colab": {
          "base_uri": "https://localhost:8080/"
        },
        "outputId": "7623bc74-b49d-4e9c-b141-bece2a4a4333"
      },
      "source": [
        "!pip install --upgrade pip\n",
        "!pip install Cython\n",
        "!pip install -r requirements.txt"
      ],
      "execution_count": 9,
      "outputs": [
        {
          "output_type": "stream",
          "text": [
            "gdrive\tsample_data  venv\n",
            "Collecting pip\n",
            "\u001b[?25l  Downloading https://files.pythonhosted.org/packages/cd/82/04e9aaf603fdbaecb4323b9e723f13c92c245f6ab2902195c53987848c78/pip-21.1.2-py3-none-any.whl (1.5MB)\n",
            "\u001b[K     |████████████████████████████████| 1.6MB 8.6MB/s \n",
            "\u001b[?25hInstalling collected packages: pip\n",
            "  Found existing installation: pip 19.3.1\n",
            "    Uninstalling pip-19.3.1:\n",
            "      Successfully uninstalled pip-19.3.1\n",
            "Successfully installed pip-21.1.2\n",
            "Requirement already satisfied: Cython in /usr/local/lib/python3.7/dist-packages (0.29.23)\n",
            "\u001b[33mWARNING: Running pip as root will break packages and permissions. You should install packages reliably by using venv: https://pip.pypa.io/warnings/venv\u001b[0m\n",
            "\u001b[31mERROR: Could not open requirements file: [Errno 2] No such file or directory: 'requirements.txt'\u001b[0m\n"
          ],
          "name": "stdout"
        }
      ]
    },
    {
      "cell_type": "markdown",
      "metadata": {
        "id": "CFIxP-1-oLLf"
      },
      "source": [
        "## Install Caffe2"
      ]
    },
    {
      "cell_type": "code",
      "metadata": {
        "id": "Z55UB0TSndyA"
      },
      "source": [
        "%cd ..\n",
        "\n",
        "!wget https://anaconda.org/pytorch/pytorch-nightly/1.0.0.dev20181206/download/linux-64/pytorch-nightly-1.0.0.dev20181206-py2.7_cuda9.2.148_cudnn7.4.1_0.tar.bz2\n",
        "!tar xvjf pytorch-nightly-1.0.0.dev20181206-py2.7_cuda9.2.148_cudnn7.4.1_0.tar.bz2\n",
        "!cp -r lib/python2.7/site-packages/* /usr/local/lib/python2.7/dist-packages/"
      ],
      "execution_count": null,
      "outputs": []
    },
    {
      "cell_type": "code",
      "metadata": {
        "id": "DuadUu3PoWFN"
      },
      "source": [
        "# To check if Caffe2 build was successful\n",
        "!python -c 'from caffe2.python import core' 2>/dev/null && echo \"Success\" || echo \"Failure\"\n",
        "\n",
        "# To check if Caffe2 GPU build was successful\n",
        "# This must print a number > 0 in order to use Detectron\n",
        "!python -c 'from caffe2.python import workspace; print(workspace.NumCudaDevices())'"
      ],
      "execution_count": null,
      "outputs": []
    },
    {
      "cell_type": "code",
      "metadata": {
        "id": "7MHKtZ-Umsl_"
      },
      "source": [
        "!python inference/infer_simple.py \\\n",
        "  --cfg configs/Mask-RCNN/e2e_mask_rcnn_X-101-64x4d-FPN_1x.yaml \\\n",
        "  --output-dir tmp/detectron-visualizations \\\n",
        "  --image-ext png --always-out \\\n",
        "  --im_or_folder image \\\n",
        "  --wts https://dax-cdn.cdn.appdomain.cloud/dax-publaynet/1.0.0/pre-trained-models/Mask-RCNN/model_final.pkl"
      ],
      "execution_count": null,
      "outputs": []
    }
  ]
}